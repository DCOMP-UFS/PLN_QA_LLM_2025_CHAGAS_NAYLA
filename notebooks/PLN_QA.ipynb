{
  "nbformat": 4,
  "nbformat_minor": 0,
  "metadata": {
    "colab": {
      "provenance": [],
      "gpuType": "T4"
    },
    "kernelspec": {
      "name": "python3",
      "display_name": "Python 3"
    },
    "language_info": {
      "name": "python"
    },
    "accelerator": "GPU",
    "widgets": {
      "application/vnd.jupyter.widget-state+json": {
        "3a715c1d51e1437784987cb2572f06d2": {
          "model_module": "@jupyter-widgets/controls",
          "model_name": "HBoxModel",
          "model_module_version": "1.5.0",
          "state": {
            "_dom_classes": [],
            "_model_module": "@jupyter-widgets/controls",
            "_model_module_version": "1.5.0",
            "_model_name": "HBoxModel",
            "_view_count": null,
            "_view_module": "@jupyter-widgets/controls",
            "_view_module_version": "1.5.0",
            "_view_name": "HBoxView",
            "box_style": "",
            "children": [
              "IPY_MODEL_1e153b23704e46f08dcab595f9545c76",
              "IPY_MODEL_59ec393e84304aa9bfa4d9dbb1c3a5c2",
              "IPY_MODEL_09be37e7a0ed45c2ac804f831c0edd02"
            ],
            "layout": "IPY_MODEL_472ffe806f8e47bb8473688fea081bf8"
          }
        },
        "1e153b23704e46f08dcab595f9545c76": {
          "model_module": "@jupyter-widgets/controls",
          "model_name": "HTMLModel",
          "model_module_version": "1.5.0",
          "state": {
            "_dom_classes": [],
            "_model_module": "@jupyter-widgets/controls",
            "_model_module_version": "1.5.0",
            "_model_name": "HTMLModel",
            "_view_count": null,
            "_view_module": "@jupyter-widgets/controls",
            "_view_module_version": "1.5.0",
            "_view_name": "HTMLView",
            "description": "",
            "description_tooltip": null,
            "layout": "IPY_MODEL_0b9c5d3bc9204beab72040cba628c329",
            "placeholder": "​",
            "style": "IPY_MODEL_5c0782c8ee544435b86b1550d031d3ae",
            "value": "config.json: 100%"
          }
        },
        "59ec393e84304aa9bfa4d9dbb1c3a5c2": {
          "model_module": "@jupyter-widgets/controls",
          "model_name": "FloatProgressModel",
          "model_module_version": "1.5.0",
          "state": {
            "_dom_classes": [],
            "_model_module": "@jupyter-widgets/controls",
            "_model_module_version": "1.5.0",
            "_model_name": "FloatProgressModel",
            "_view_count": null,
            "_view_module": "@jupyter-widgets/controls",
            "_view_module_version": "1.5.0",
            "_view_name": "ProgressView",
            "bar_style": "success",
            "description": "",
            "description_tooltip": null,
            "layout": "IPY_MODEL_67fd9de73264487697b6bc5b18b57a00",
            "max": 791,
            "min": 0,
            "orientation": "horizontal",
            "style": "IPY_MODEL_9f70201008e0427ebf4eab5a4f1b29f9",
            "value": 791
          }
        },
        "09be37e7a0ed45c2ac804f831c0edd02": {
          "model_module": "@jupyter-widgets/controls",
          "model_name": "HTMLModel",
          "model_module_version": "1.5.0",
          "state": {
            "_dom_classes": [],
            "_model_module": "@jupyter-widgets/controls",
            "_model_module_version": "1.5.0",
            "_model_name": "HTMLModel",
            "_view_count": null,
            "_view_module": "@jupyter-widgets/controls",
            "_view_module_version": "1.5.0",
            "_view_name": "HTMLView",
            "description": "",
            "description_tooltip": null,
            "layout": "IPY_MODEL_12c4a47af5e9462e8a62ca7b44d8eb3b",
            "placeholder": "​",
            "style": "IPY_MODEL_72a26519454b4979937adb602a51df40",
            "value": " 791/791 [00:00&lt;00:00, 82.7kB/s]"
          }
        },
        "472ffe806f8e47bb8473688fea081bf8": {
          "model_module": "@jupyter-widgets/base",
          "model_name": "LayoutModel",
          "model_module_version": "1.2.0",
          "state": {
            "_model_module": "@jupyter-widgets/base",
            "_model_module_version": "1.2.0",
            "_model_name": "LayoutModel",
            "_view_count": null,
            "_view_module": "@jupyter-widgets/base",
            "_view_module_version": "1.2.0",
            "_view_name": "LayoutView",
            "align_content": null,
            "align_items": null,
            "align_self": null,
            "border": null,
            "bottom": null,
            "display": null,
            "flex": null,
            "flex_flow": null,
            "grid_area": null,
            "grid_auto_columns": null,
            "grid_auto_flow": null,
            "grid_auto_rows": null,
            "grid_column": null,
            "grid_gap": null,
            "grid_row": null,
            "grid_template_areas": null,
            "grid_template_columns": null,
            "grid_template_rows": null,
            "height": null,
            "justify_content": null,
            "justify_items": null,
            "left": null,
            "margin": null,
            "max_height": null,
            "max_width": null,
            "min_height": null,
            "min_width": null,
            "object_fit": null,
            "object_position": null,
            "order": null,
            "overflow": null,
            "overflow_x": null,
            "overflow_y": null,
            "padding": null,
            "right": null,
            "top": null,
            "visibility": null,
            "width": null
          }
        },
        "0b9c5d3bc9204beab72040cba628c329": {
          "model_module": "@jupyter-widgets/base",
          "model_name": "LayoutModel",
          "model_module_version": "1.2.0",
          "state": {
            "_model_module": "@jupyter-widgets/base",
            "_model_module_version": "1.2.0",
            "_model_name": "LayoutModel",
            "_view_count": null,
            "_view_module": "@jupyter-widgets/base",
            "_view_module_version": "1.2.0",
            "_view_name": "LayoutView",
            "align_content": null,
            "align_items": null,
            "align_self": null,
            "border": null,
            "bottom": null,
            "display": null,
            "flex": null,
            "flex_flow": null,
            "grid_area": null,
            "grid_auto_columns": null,
            "grid_auto_flow": null,
            "grid_auto_rows": null,
            "grid_column": null,
            "grid_gap": null,
            "grid_row": null,
            "grid_template_areas": null,
            "grid_template_columns": null,
            "grid_template_rows": null,
            "height": null,
            "justify_content": null,
            "justify_items": null,
            "left": null,
            "margin": null,
            "max_height": null,
            "max_width": null,
            "min_height": null,
            "min_width": null,
            "object_fit": null,
            "object_position": null,
            "order": null,
            "overflow": null,
            "overflow_x": null,
            "overflow_y": null,
            "padding": null,
            "right": null,
            "top": null,
            "visibility": null,
            "width": null
          }
        },
        "5c0782c8ee544435b86b1550d031d3ae": {
          "model_module": "@jupyter-widgets/controls",
          "model_name": "DescriptionStyleModel",
          "model_module_version": "1.5.0",
          "state": {
            "_model_module": "@jupyter-widgets/controls",
            "_model_module_version": "1.5.0",
            "_model_name": "DescriptionStyleModel",
            "_view_count": null,
            "_view_module": "@jupyter-widgets/base",
            "_view_module_version": "1.2.0",
            "_view_name": "StyleView",
            "description_width": ""
          }
        },
        "67fd9de73264487697b6bc5b18b57a00": {
          "model_module": "@jupyter-widgets/base",
          "model_name": "LayoutModel",
          "model_module_version": "1.2.0",
          "state": {
            "_model_module": "@jupyter-widgets/base",
            "_model_module_version": "1.2.0",
            "_model_name": "LayoutModel",
            "_view_count": null,
            "_view_module": "@jupyter-widgets/base",
            "_view_module_version": "1.2.0",
            "_view_name": "LayoutView",
            "align_content": null,
            "align_items": null,
            "align_self": null,
            "border": null,
            "bottom": null,
            "display": null,
            "flex": null,
            "flex_flow": null,
            "grid_area": null,
            "grid_auto_columns": null,
            "grid_auto_flow": null,
            "grid_auto_rows": null,
            "grid_column": null,
            "grid_gap": null,
            "grid_row": null,
            "grid_template_areas": null,
            "grid_template_columns": null,
            "grid_template_rows": null,
            "height": null,
            "justify_content": null,
            "justify_items": null,
            "left": null,
            "margin": null,
            "max_height": null,
            "max_width": null,
            "min_height": null,
            "min_width": null,
            "object_fit": null,
            "object_position": null,
            "order": null,
            "overflow": null,
            "overflow_x": null,
            "overflow_y": null,
            "padding": null,
            "right": null,
            "top": null,
            "visibility": null,
            "width": null
          }
        },
        "9f70201008e0427ebf4eab5a4f1b29f9": {
          "model_module": "@jupyter-widgets/controls",
          "model_name": "ProgressStyleModel",
          "model_module_version": "1.5.0",
          "state": {
            "_model_module": "@jupyter-widgets/controls",
            "_model_module_version": "1.5.0",
            "_model_name": "ProgressStyleModel",
            "_view_count": null,
            "_view_module": "@jupyter-widgets/base",
            "_view_module_version": "1.2.0",
            "_view_name": "StyleView",
            "bar_color": null,
            "description_width": ""
          }
        },
        "12c4a47af5e9462e8a62ca7b44d8eb3b": {
          "model_module": "@jupyter-widgets/base",
          "model_name": "LayoutModel",
          "model_module_version": "1.2.0",
          "state": {
            "_model_module": "@jupyter-widgets/base",
            "_model_module_version": "1.2.0",
            "_model_name": "LayoutModel",
            "_view_count": null,
            "_view_module": "@jupyter-widgets/base",
            "_view_module_version": "1.2.0",
            "_view_name": "LayoutView",
            "align_content": null,
            "align_items": null,
            "align_self": null,
            "border": null,
            "bottom": null,
            "display": null,
            "flex": null,
            "flex_flow": null,
            "grid_area": null,
            "grid_auto_columns": null,
            "grid_auto_flow": null,
            "grid_auto_rows": null,
            "grid_column": null,
            "grid_gap": null,
            "grid_row": null,
            "grid_template_areas": null,
            "grid_template_columns": null,
            "grid_template_rows": null,
            "height": null,
            "justify_content": null,
            "justify_items": null,
            "left": null,
            "margin": null,
            "max_height": null,
            "max_width": null,
            "min_height": null,
            "min_width": null,
            "object_fit": null,
            "object_position": null,
            "order": null,
            "overflow": null,
            "overflow_x": null,
            "overflow_y": null,
            "padding": null,
            "right": null,
            "top": null,
            "visibility": null,
            "width": null
          }
        },
        "72a26519454b4979937adb602a51df40": {
          "model_module": "@jupyter-widgets/controls",
          "model_name": "DescriptionStyleModel",
          "model_module_version": "1.5.0",
          "state": {
            "_model_module": "@jupyter-widgets/controls",
            "_model_module_version": "1.5.0",
            "_model_name": "DescriptionStyleModel",
            "_view_count": null,
            "_view_module": "@jupyter-widgets/base",
            "_view_module_version": "1.2.0",
            "_view_name": "StyleView",
            "description_width": ""
          }
        },
        "848bb6e93b0f4a268d3731458bbd687d": {
          "model_module": "@jupyter-widgets/controls",
          "model_name": "HBoxModel",
          "model_module_version": "1.5.0",
          "state": {
            "_dom_classes": [],
            "_model_module": "@jupyter-widgets/controls",
            "_model_module_version": "1.5.0",
            "_model_name": "HBoxModel",
            "_view_count": null,
            "_view_module": "@jupyter-widgets/controls",
            "_view_module_version": "1.5.0",
            "_view_name": "HBoxView",
            "box_style": "",
            "children": [
              "IPY_MODEL_7c0eccdcda304f1dbc6b841520139f13",
              "IPY_MODEL_54526c9d1a1a4729b53c2c30c576ea26",
              "IPY_MODEL_d4332b5e4746408a97d0eb17d5285cb2"
            ],
            "layout": "IPY_MODEL_0807adb9645c4e7eb7c11e1d3c9cffdc"
          }
        },
        "7c0eccdcda304f1dbc6b841520139f13": {
          "model_module": "@jupyter-widgets/controls",
          "model_name": "HTMLModel",
          "model_module_version": "1.5.0",
          "state": {
            "_dom_classes": [],
            "_model_module": "@jupyter-widgets/controls",
            "_model_module_version": "1.5.0",
            "_model_name": "HTMLModel",
            "_view_count": null,
            "_view_module": "@jupyter-widgets/controls",
            "_view_module_version": "1.5.0",
            "_view_name": "HTMLView",
            "description": "",
            "description_tooltip": null,
            "layout": "IPY_MODEL_250152e7fd1e4fa3921995903163d5c2",
            "placeholder": "​",
            "style": "IPY_MODEL_e302cc19f00e40fcbad727750481ce37",
            "value": "model.safetensors: 100%"
          }
        },
        "54526c9d1a1a4729b53c2c30c576ea26": {
          "model_module": "@jupyter-widgets/controls",
          "model_name": "FloatProgressModel",
          "model_module_version": "1.5.0",
          "state": {
            "_dom_classes": [],
            "_model_module": "@jupyter-widgets/controls",
            "_model_module_version": "1.5.0",
            "_model_name": "FloatProgressModel",
            "_view_count": null,
            "_view_module": "@jupyter-widgets/controls",
            "_view_module_version": "1.5.0",
            "_view_name": "ProgressView",
            "bar_style": "success",
            "description": "",
            "description_tooltip": null,
            "layout": "IPY_MODEL_32842dd9a5f84544821b2e389fc10363",
            "max": 891577128,
            "min": 0,
            "orientation": "horizontal",
            "style": "IPY_MODEL_cbf04d412f4248d38b925edf60377ba9",
            "value": 891577128
          }
        },
        "d4332b5e4746408a97d0eb17d5285cb2": {
          "model_module": "@jupyter-widgets/controls",
          "model_name": "HTMLModel",
          "model_module_version": "1.5.0",
          "state": {
            "_dom_classes": [],
            "_model_module": "@jupyter-widgets/controls",
            "_model_module_version": "1.5.0",
            "_model_name": "HTMLModel",
            "_view_count": null,
            "_view_module": "@jupyter-widgets/controls",
            "_view_module_version": "1.5.0",
            "_view_name": "HTMLView",
            "description": "",
            "description_tooltip": null,
            "layout": "IPY_MODEL_de6d011bb9674800ae7ae24900e31f5c",
            "placeholder": "​",
            "style": "IPY_MODEL_917816c4e01f4e88b782f80ce756cdc0",
            "value": " 892M/892M [00:37&lt;00:00, 24.6MB/s]"
          }
        },
        "0807adb9645c4e7eb7c11e1d3c9cffdc": {
          "model_module": "@jupyter-widgets/base",
          "model_name": "LayoutModel",
          "model_module_version": "1.2.0",
          "state": {
            "_model_module": "@jupyter-widgets/base",
            "_model_module_version": "1.2.0",
            "_model_name": "LayoutModel",
            "_view_count": null,
            "_view_module": "@jupyter-widgets/base",
            "_view_module_version": "1.2.0",
            "_view_name": "LayoutView",
            "align_content": null,
            "align_items": null,
            "align_self": null,
            "border": null,
            "bottom": null,
            "display": null,
            "flex": null,
            "flex_flow": null,
            "grid_area": null,
            "grid_auto_columns": null,
            "grid_auto_flow": null,
            "grid_auto_rows": null,
            "grid_column": null,
            "grid_gap": null,
            "grid_row": null,
            "grid_template_areas": null,
            "grid_template_columns": null,
            "grid_template_rows": null,
            "height": null,
            "justify_content": null,
            "justify_items": null,
            "left": null,
            "margin": null,
            "max_height": null,
            "max_width": null,
            "min_height": null,
            "min_width": null,
            "object_fit": null,
            "object_position": null,
            "order": null,
            "overflow": null,
            "overflow_x": null,
            "overflow_y": null,
            "padding": null,
            "right": null,
            "top": null,
            "visibility": null,
            "width": null
          }
        },
        "250152e7fd1e4fa3921995903163d5c2": {
          "model_module": "@jupyter-widgets/base",
          "model_name": "LayoutModel",
          "model_module_version": "1.2.0",
          "state": {
            "_model_module": "@jupyter-widgets/base",
            "_model_module_version": "1.2.0",
            "_model_name": "LayoutModel",
            "_view_count": null,
            "_view_module": "@jupyter-widgets/base",
            "_view_module_version": "1.2.0",
            "_view_name": "LayoutView",
            "align_content": null,
            "align_items": null,
            "align_self": null,
            "border": null,
            "bottom": null,
            "display": null,
            "flex": null,
            "flex_flow": null,
            "grid_area": null,
            "grid_auto_columns": null,
            "grid_auto_flow": null,
            "grid_auto_rows": null,
            "grid_column": null,
            "grid_gap": null,
            "grid_row": null,
            "grid_template_areas": null,
            "grid_template_columns": null,
            "grid_template_rows": null,
            "height": null,
            "justify_content": null,
            "justify_items": null,
            "left": null,
            "margin": null,
            "max_height": null,
            "max_width": null,
            "min_height": null,
            "min_width": null,
            "object_fit": null,
            "object_position": null,
            "order": null,
            "overflow": null,
            "overflow_x": null,
            "overflow_y": null,
            "padding": null,
            "right": null,
            "top": null,
            "visibility": null,
            "width": null
          }
        },
        "e302cc19f00e40fcbad727750481ce37": {
          "model_module": "@jupyter-widgets/controls",
          "model_name": "DescriptionStyleModel",
          "model_module_version": "1.5.0",
          "state": {
            "_model_module": "@jupyter-widgets/controls",
            "_model_module_version": "1.5.0",
            "_model_name": "DescriptionStyleModel",
            "_view_count": null,
            "_view_module": "@jupyter-widgets/base",
            "_view_module_version": "1.2.0",
            "_view_name": "StyleView",
            "description_width": ""
          }
        },
        "32842dd9a5f84544821b2e389fc10363": {
          "model_module": "@jupyter-widgets/base",
          "model_name": "LayoutModel",
          "model_module_version": "1.2.0",
          "state": {
            "_model_module": "@jupyter-widgets/base",
            "_model_module_version": "1.2.0",
            "_model_name": "LayoutModel",
            "_view_count": null,
            "_view_module": "@jupyter-widgets/base",
            "_view_module_version": "1.2.0",
            "_view_name": "LayoutView",
            "align_content": null,
            "align_items": null,
            "align_self": null,
            "border": null,
            "bottom": null,
            "display": null,
            "flex": null,
            "flex_flow": null,
            "grid_area": null,
            "grid_auto_columns": null,
            "grid_auto_flow": null,
            "grid_auto_rows": null,
            "grid_column": null,
            "grid_gap": null,
            "grid_row": null,
            "grid_template_areas": null,
            "grid_template_columns": null,
            "grid_template_rows": null,
            "height": null,
            "justify_content": null,
            "justify_items": null,
            "left": null,
            "margin": null,
            "max_height": null,
            "max_width": null,
            "min_height": null,
            "min_width": null,
            "object_fit": null,
            "object_position": null,
            "order": null,
            "overflow": null,
            "overflow_x": null,
            "overflow_y": null,
            "padding": null,
            "right": null,
            "top": null,
            "visibility": null,
            "width": null
          }
        },
        "cbf04d412f4248d38b925edf60377ba9": {
          "model_module": "@jupyter-widgets/controls",
          "model_name": "ProgressStyleModel",
          "model_module_version": "1.5.0",
          "state": {
            "_model_module": "@jupyter-widgets/controls",
            "_model_module_version": "1.5.0",
            "_model_name": "ProgressStyleModel",
            "_view_count": null,
            "_view_module": "@jupyter-widgets/base",
            "_view_module_version": "1.2.0",
            "_view_name": "StyleView",
            "bar_color": null,
            "description_width": ""
          }
        },
        "de6d011bb9674800ae7ae24900e31f5c": {
          "model_module": "@jupyter-widgets/base",
          "model_name": "LayoutModel",
          "model_module_version": "1.2.0",
          "state": {
            "_model_module": "@jupyter-widgets/base",
            "_model_module_version": "1.2.0",
            "_model_name": "LayoutModel",
            "_view_count": null,
            "_view_module": "@jupyter-widgets/base",
            "_view_module_version": "1.2.0",
            "_view_name": "LayoutView",
            "align_content": null,
            "align_items": null,
            "align_self": null,
            "border": null,
            "bottom": null,
            "display": null,
            "flex": null,
            "flex_flow": null,
            "grid_area": null,
            "grid_auto_columns": null,
            "grid_auto_flow": null,
            "grid_auto_rows": null,
            "grid_column": null,
            "grid_gap": null,
            "grid_row": null,
            "grid_template_areas": null,
            "grid_template_columns": null,
            "grid_template_rows": null,
            "height": null,
            "justify_content": null,
            "justify_items": null,
            "left": null,
            "margin": null,
            "max_height": null,
            "max_width": null,
            "min_height": null,
            "min_width": null,
            "object_fit": null,
            "object_position": null,
            "order": null,
            "overflow": null,
            "overflow_x": null,
            "overflow_y": null,
            "padding": null,
            "right": null,
            "top": null,
            "visibility": null,
            "width": null
          }
        },
        "917816c4e01f4e88b782f80ce756cdc0": {
          "model_module": "@jupyter-widgets/controls",
          "model_name": "DescriptionStyleModel",
          "model_module_version": "1.5.0",
          "state": {
            "_model_module": "@jupyter-widgets/controls",
            "_model_module_version": "1.5.0",
            "_model_name": "DescriptionStyleModel",
            "_view_count": null,
            "_view_module": "@jupyter-widgets/base",
            "_view_module_version": "1.2.0",
            "_view_name": "StyleView",
            "description_width": ""
          }
        }
      }
    }
  },
  "cells": [
    {
      "cell_type": "markdown",
      "source": [
        "# **Atividade 2 – Perguntas e Respostas usando Modelos do Hugging Face**"
      ],
      "metadata": {
        "id": "lp5Mb0w0Yx0w"
      }
    },
    {
      "cell_type": "markdown",
      "source": [
        "### **Dependências**"
      ],
      "metadata": {
        "id": "6I7GJbo4Y024"
      }
    },
    {
      "cell_type": "code",
      "source": [
        "!pip install -U --quiet transformers pypdf python-docx pandas"
      ],
      "metadata": {
        "colab": {
          "base_uri": "https://localhost:8080/"
        },
        "id": "o2KcdPmuBTIR",
        "outputId": "748cb8c1-d3c9-4c09-b493-e664ac8e029d"
      },
      "execution_count": null,
      "outputs": [
        {
          "output_type": "stream",
          "name": "stdout",
          "text": [
            "\u001b[2K     \u001b[90m━━━━━━━━━━━━━━━━━━━━━━━━━━━━━━━━━━━━━━━━\u001b[0m \u001b[32m91.2/91.2 kB\u001b[0m \u001b[31m7.3 MB/s\u001b[0m eta \u001b[36m0:00:00\u001b[0m\n",
            "\u001b[2K   \u001b[90m━━━━━━━━━━━━━━━━━━━━━━━━━━━━━━━━━━━━━━━━\u001b[0m \u001b[32m11.3/11.3 MB\u001b[0m \u001b[31m131.4 MB/s\u001b[0m eta \u001b[36m0:00:00\u001b[0m\n",
            "\u001b[2K   \u001b[90m━━━━━━━━━━━━━━━━━━━━━━━━━━━━━━━━━━━━━━━━\u001b[0m \u001b[32m313.2/313.2 kB\u001b[0m \u001b[31m25.6 MB/s\u001b[0m eta \u001b[36m0:00:00\u001b[0m\n",
            "\u001b[2K   \u001b[90m━━━━━━━━━━━━━━━━━━━━━━━━━━━━━━━━━━━━━━━━\u001b[0m \u001b[32m253.0/253.0 kB\u001b[0m \u001b[31m23.7 MB/s\u001b[0m eta \u001b[36m0:00:00\u001b[0m\n",
            "\u001b[2K   \u001b[90m━━━━━━━━━━━━━━━━━━━━━━━━━━━━━━━━━━━━━━━━\u001b[0m \u001b[32m12.4/12.4 MB\u001b[0m \u001b[31m135.5 MB/s\u001b[0m eta \u001b[36m0:00:00\u001b[0m\n",
            "\u001b[?25h\u001b[31mERROR: pip's dependency resolver does not currently take into account all the packages that are installed. This behaviour is the source of the following dependency conflicts.\n",
            "google-colab 1.0.0 requires pandas==2.2.2, but you have pandas 2.3.1 which is incompatible.\n",
            "cudf-cu12 25.6.0 requires pandas<2.2.4dev0,>=2.0, but you have pandas 2.3.1 which is incompatible.\n",
            "dask-cudf-cu12 25.6.0 requires pandas<2.2.4dev0,>=2.0, but you have pandas 2.3.1 which is incompatible.\u001b[0m\u001b[31m\n",
            "\u001b[0m"
          ]
        }
      ]
    },
    {
      "cell_type": "code",
      "source": [
        "import pypdf\n",
        "import docx\n",
        "import pandas as pd\n",
        "from transformers import pipeline\n",
        "from transformers.utils import logging\n",
        "import logging as py_logging\n",
        "import warnings"
      ],
      "metadata": {
        "id": "xjbxLiU2iz-G"
      },
      "execution_count": null,
      "outputs": []
    },
    {
      "cell_type": "markdown",
      "source": [
        "### **Texto completo - Doenças Respiratórias Crônicas**"
      ],
      "metadata": {
        "id": "indPgryoQtS5"
      }
    },
    {
      "cell_type": "code",
      "source": [
        "doencas_cronicas = pypdf.PdfReader(\"doencas_respiratorias_cronicas.pdf\")\n",
        "conteudo_doencas_cronicas = \"\\n\".join([doencas_cronicas.pages[i].extract_text() for i in range(len(doencas_cronicas.pages))])\n",
        "\n",
        "print(conteudo_doencas_cronicas[:100])"
      ],
      "metadata": {
        "id": "wl2_syTOCWxA",
        "colab": {
          "base_uri": "https://localhost:8080/"
        },
        "outputId": "798bf5f7-5402-4953-bdc5-a62ed9de779c"
      },
      "execution_count": null,
      "outputs": [
        {
          "output_type": "stream",
          "name": "stdout",
          "text": [
            "\n",
            "CADERNOS DE \n",
            "ATENÇÃO BÁSICA\n",
            "MINISTÉRIO DA SAÚDE\n",
            "DOENÇAS RESPIRATÓRIAS \n",
            "CRÔNICAS\n",
            "Brasília – DF\n",
            "2010\n",
            "\n"
          ]
        }
      ]
    },
    {
      "cell_type": "markdown",
      "source": [
        "### **Texto completo - Dicionário de Dados**"
      ],
      "metadata": {
        "id": "ArZ6dCB8QzIv"
      }
    },
    {
      "cell_type": "code",
      "source": [
        "doc = docx.Document(\"DICIONARIO_DE_DADOS.docx\")\n",
        "textos_completos = []\n",
        "for para in doc.paragraphs:\n",
        "    textos_completos.append(para.text)\n",
        "for table in doc.tables:\n",
        "    for row in table.rows:\n",
        "        textos_completos.append(\" | \".join(cell.text for cell in row.cells))\n",
        "dict_dados = \"\\n\".join(textos_completos)\n"
      ],
      "metadata": {
        "id": "mygly0wmmxNs"
      },
      "execution_count": null,
      "outputs": []
    },
    {
      "cell_type": "markdown",
      "source": [
        "### **Função principal**"
      ],
      "metadata": {
        "id": "vzce0dxpZXP8"
      }
    },
    {
      "cell_type": "code",
      "source": [
        "def responder_pergunta(qa_input: dict, model_name: str) -> dict:\n",
        "    \"\"\"\n",
        "    Carrega um modelo de Question Answering e retorna a resposta para uma pergunta.\n",
        "    Args:\n",
        "        qa_input (dict): Dicionário com as chaves 'question' e 'context'.\n",
        "        model_name (str): Nome do modelo de Question Answering a ser carregado.\n",
        "    Returns:\n",
        "        dict: Dicionário com as chaves 'answer', 'score' e 'start' e 'end'.\n",
        "    \"\"\"\n",
        "    qa_model = pipeline(\"question-answering\", model=model_name, tokenizer=model_name if model_name != else \"unicamp-dl/ptt5-base-portuguese-vocab\")\n",
        "    resultado = qa_model(qa_input)\n",
        "\n",
        "    return resultado\n"
      ],
      "metadata": {
        "id": "RrmupTlDmg7l"
      },
      "execution_count": null,
      "outputs": []
    },
    {
      "cell_type": "code",
      "source": [
        "modelos = [\n",
        "    \"deepset/xlm-roberta-large-squad2\",\n",
        "    \"pierreguillou/bert-base-cased-squad-v1.1-portuguese\",\n",
        "    \"benjleite/ptt5-ptbr-qa\"\n",
        "]"
      ],
      "metadata": {
        "id": "m4wfEYkMaOIb"
      },
      "execution_count": null,
      "outputs": []
    },
    {
      "cell_type": "code",
      "source": [
        "warnings.filterwarnings('ignore')\n",
        "logging.set_verbosity_error()\n",
        "py_logging.getLogger(\"transformers\").setLevel(py_logging.ERROR)"
      ],
      "metadata": {
        "id": "dtPmHq2ece5m"
      },
      "execution_count": null,
      "outputs": []
    },
    {
      "cell_type": "markdown",
      "source": [
        "### **Doenças respiratórias**"
      ],
      "metadata": {
        "id": "Fuo3iPQLaFEc"
      }
    },
    {
      "cell_type": "code",
      "source": [
        "qa_doencas_respiratorias = [\n",
        "    \"Quais os tratamentos e atos de prevenção para rinite persistente grave?\",\n",
        "    \"O que diferencia a hemoptise falsa da verdadeira?\",\n",
        "    \"Quais os cuidados ambientais necessários para o controle das crises asmáticas?\"\n",
        "]"
      ],
      "metadata": {
        "id": "wtzRJV9DZe0j"
      },
      "execution_count": null,
      "outputs": []
    },
    {
      "cell_type": "code",
      "source": [
        "for modelo in modelos:\n",
        "    for pergunta in qa_doencas_respiratorias:\n",
        "        qa_input = {\n",
        "            \"question\": pergunta,\n",
        "            \"context\": conteudo_doencas_cronicas\n",
        "        }\n",
        "        resposta = responder_pergunta(qa_input, modelo)\n",
        "        print(f\"Modelo: {modelo}\\nPergunta: {pergunta}\\nResposta: {resposta}\\n\\n\")"
      ],
      "metadata": {
        "colab": {
          "base_uri": "https://localhost:8080/",
          "height": 906,
          "referenced_widgets": [
            "3a715c1d51e1437784987cb2572f06d2",
            "1e153b23704e46f08dcab595f9545c76",
            "59ec393e84304aa9bfa4d9dbb1c3a5c2",
            "09be37e7a0ed45c2ac804f831c0edd02",
            "472ffe806f8e47bb8473688fea081bf8",
            "0b9c5d3bc9204beab72040cba628c329",
            "5c0782c8ee544435b86b1550d031d3ae",
            "67fd9de73264487697b6bc5b18b57a00",
            "9f70201008e0427ebf4eab5a4f1b29f9",
            "12c4a47af5e9462e8a62ca7b44d8eb3b",
            "72a26519454b4979937adb602a51df40",
            "848bb6e93b0f4a268d3731458bbd687d",
            "7c0eccdcda304f1dbc6b841520139f13",
            "54526c9d1a1a4729b53c2c30c576ea26",
            "d4332b5e4746408a97d0eb17d5285cb2",
            "0807adb9645c4e7eb7c11e1d3c9cffdc",
            "250152e7fd1e4fa3921995903163d5c2",
            "e302cc19f00e40fcbad727750481ce37",
            "32842dd9a5f84544821b2e389fc10363",
            "cbf04d412f4248d38b925edf60377ba9",
            "de6d011bb9674800ae7ae24900e31f5c",
            "917816c4e01f4e88b782f80ce756cdc0"
          ]
        },
        "id": "WcnKTxq_aInN",
        "outputId": "b3b10a13-e70d-4f30-de1d-77d51ab18b23"
      },
      "execution_count": null,
      "outputs": [
        {
          "output_type": "stream",
          "name": "stdout",
          "text": [
            "Modelo: deepset/xlm-roberta-large-squad2\n",
            "Pergunta: Quais os tratamentos e atos de prevenção para rinite persistente grave?\n",
            "Resposta: {'score': 0.010588130349788116, 'start': 287348, 'end': 287358, 'answer': ' SAMU \\n192'}\n",
            "\n",
            "\n",
            "Modelo: deepset/xlm-roberta-large-squad2\n",
            "Pergunta: O que diferencia a hemoptise falsa da verdadeira?\n",
            "Resposta: {'score': 0.010508029728953261, 'start': 25760, 'end': 25774, 'answer': ' o sangramento'}\n",
            "\n",
            "\n",
            "Modelo: deepset/xlm-roberta-large-squad2\n",
            "Pergunta: Quais os cuidados ambientais necessários para o controle das crises asmáticas?\n",
            "Resposta: {'score': 1.8262405736022629, 'start': 68575, 'end': 68618, 'answer': '\\nAtividades educativas + controle ambiental'}\n",
            "\n",
            "\n",
            "Modelo: pierreguillou/bert-base-cased-squad-v1.1-portuguese\n",
            "Pergunta: Quais os tratamentos e atos de prevenção para rinite persistente grave?\n",
            "Resposta: {'score': 1.49578197441042, 'start': 212022, 'end': 212037, 'answer': 'Corticosteroids'}\n",
            "\n",
            "\n",
            "Modelo: pierreguillou/bert-base-cased-squad-v1.1-portuguese\n",
            "Pergunta: O que diferencia a hemoptise falsa da verdadeira?\n",
            "Resposta: {'score': 1.2755211896146648, 'start': 3591, 'end': 3610, 'answer': 'Níveis de evidência'}\n",
            "\n",
            "\n",
            "Modelo: pierreguillou/bert-base-cased-squad-v1.1-portuguese\n",
            "Pergunta: Quais os cuidados ambientais necessários para o controle das crises asmáticas?\n",
            "Resposta: {'score': 1.4688338008709252, 'start': 68576, 'end': 68597, 'answer': 'Atividades educativas'}\n",
            "\n",
            "\n"
          ]
        },
        {
          "output_type": "display_data",
          "data": {
            "text/plain": [
              "config.json:   0%|          | 0.00/791 [00:00<?, ?B/s]"
            ],
            "application/vnd.jupyter.widget-view+json": {
              "version_major": 2,
              "version_minor": 0,
              "model_id": "3a715c1d51e1437784987cb2572f06d2"
            }
          },
          "metadata": {}
        },
        {
          "output_type": "display_data",
          "data": {
            "text/plain": [
              "model.safetensors:   0%|          | 0.00/892M [00:00<?, ?B/s]"
            ],
            "application/vnd.jupyter.widget-view+json": {
              "version_major": 2,
              "version_minor": 0,
              "model_id": "848bb6e93b0f4a268d3731458bbd687d"
            }
          },
          "metadata": {}
        },
        {
          "output_type": "error",
          "ename": "TypeError",
          "evalue": "QuestionAnsweringPipeline.__init__() missing 1 required positional argument: 'tokenizer'",
          "traceback": [
            "\u001b[0;31m---------------------------------------------------------------------------\u001b[0m",
            "\u001b[0;31mTypeError\u001b[0m                                 Traceback (most recent call last)",
            "\u001b[0;32m/tmp/ipython-input-2475782953.py\u001b[0m in \u001b[0;36m<cell line: 0>\u001b[0;34m()\u001b[0m\n\u001b[1;32m      5\u001b[0m             \u001b[0;34m\"context\"\u001b[0m\u001b[0;34m:\u001b[0m \u001b[0mconteudo_doencas_cronicas\u001b[0m\u001b[0;34m\u001b[0m\u001b[0;34m\u001b[0m\u001b[0m\n\u001b[1;32m      6\u001b[0m         }\n\u001b[0;32m----> 7\u001b[0;31m         \u001b[0mresposta\u001b[0m \u001b[0;34m=\u001b[0m \u001b[0mresponder_pergunta\u001b[0m\u001b[0;34m(\u001b[0m\u001b[0mqa_input\u001b[0m\u001b[0;34m,\u001b[0m \u001b[0mmodelo\u001b[0m\u001b[0;34m)\u001b[0m\u001b[0;34m\u001b[0m\u001b[0;34m\u001b[0m\u001b[0m\n\u001b[0m\u001b[1;32m      8\u001b[0m         \u001b[0mprint\u001b[0m\u001b[0;34m(\u001b[0m\u001b[0;34mf\"Modelo: {modelo}\\nPergunta: {pergunta}\\nResposta: {resposta}\\n\\n\"\u001b[0m\u001b[0;34m)\u001b[0m\u001b[0;34m\u001b[0m\u001b[0;34m\u001b[0m\u001b[0m\n",
            "\u001b[0;32m/tmp/ipython-input-1822192130.py\u001b[0m in \u001b[0;36mresponder_pergunta\u001b[0;34m(qa_input, model_name)\u001b[0m\n\u001b[1;32m      8\u001b[0m         \u001b[0mdict\u001b[0m\u001b[0;34m:\u001b[0m \u001b[0mDicionário\u001b[0m \u001b[0mcom\u001b[0m \u001b[0;32mas\u001b[0m \u001b[0mchaves\u001b[0m \u001b[0;34m'answer'\u001b[0m\u001b[0;34m,\u001b[0m \u001b[0;34m'score'\u001b[0m \u001b[0me\u001b[0m \u001b[0;34m'start'\u001b[0m \u001b[0me\u001b[0m \u001b[0;34m'end'\u001b[0m\u001b[0;34m.\u001b[0m\u001b[0;34m\u001b[0m\u001b[0;34m\u001b[0m\u001b[0m\n\u001b[1;32m      9\u001b[0m     \"\"\"\n\u001b[0;32m---> 10\u001b[0;31m     \u001b[0mqa_model\u001b[0m \u001b[0;34m=\u001b[0m \u001b[0mpipeline\u001b[0m\u001b[0;34m(\u001b[0m\u001b[0;34m\"question-answering\"\u001b[0m\u001b[0;34m,\u001b[0m \u001b[0mmodel\u001b[0m\u001b[0;34m=\u001b[0m\u001b[0mmodel_name\u001b[0m\u001b[0;34m,\u001b[0m \u001b[0mtokenizer\u001b[0m\u001b[0;34m=\u001b[0m\u001b[0mmodel_name\u001b[0m\u001b[0;34m)\u001b[0m\u001b[0;34m\u001b[0m\u001b[0;34m\u001b[0m\u001b[0m\n\u001b[0m\u001b[1;32m     11\u001b[0m     \u001b[0mresultado\u001b[0m \u001b[0;34m=\u001b[0m \u001b[0mqa_model\u001b[0m\u001b[0;34m(\u001b[0m\u001b[0mqa_input\u001b[0m\u001b[0;34m)\u001b[0m\u001b[0;34m\u001b[0m\u001b[0;34m\u001b[0m\u001b[0m\n\u001b[1;32m     12\u001b[0m \u001b[0;34m\u001b[0m\u001b[0m\n",
            "\u001b[0;32m/usr/local/lib/python3.11/dist-packages/transformers/pipelines/__init__.py\u001b[0m in \u001b[0;36mpipeline\u001b[0;34m(task, model, config, tokenizer, feature_extractor, image_processor, processor, framework, revision, use_fast, token, device, device_map, torch_dtype, trust_remote_code, model_kwargs, pipeline_class, **kwargs)\u001b[0m\n\u001b[1;32m   1208\u001b[0m         \u001b[0mkwargs\u001b[0m\u001b[0;34m[\u001b[0m\u001b[0;34m\"processor\"\u001b[0m\u001b[0;34m]\u001b[0m \u001b[0;34m=\u001b[0m \u001b[0mprocessor\u001b[0m\u001b[0;34m\u001b[0m\u001b[0;34m\u001b[0m\u001b[0m\n\u001b[1;32m   1209\u001b[0m \u001b[0;34m\u001b[0m\u001b[0m\n\u001b[0;32m-> 1210\u001b[0;31m     \u001b[0;32mreturn\u001b[0m \u001b[0mpipeline_class\u001b[0m\u001b[0;34m(\u001b[0m\u001b[0mmodel\u001b[0m\u001b[0;34m=\u001b[0m\u001b[0mmodel\u001b[0m\u001b[0;34m,\u001b[0m \u001b[0mframework\u001b[0m\u001b[0;34m=\u001b[0m\u001b[0mframework\u001b[0m\u001b[0;34m,\u001b[0m \u001b[0mtask\u001b[0m\u001b[0;34m=\u001b[0m\u001b[0mtask\u001b[0m\u001b[0;34m,\u001b[0m \u001b[0;34m**\u001b[0m\u001b[0mkwargs\u001b[0m\u001b[0;34m)\u001b[0m\u001b[0;34m\u001b[0m\u001b[0;34m\u001b[0m\u001b[0m\n\u001b[0m",
            "\u001b[0;31mTypeError\u001b[0m: QuestionAnsweringPipeline.__init__() missing 1 required positional argument: 'tokenizer'"
          ]
        }
      ]
    },
    {
      "cell_type": "code",
      "source": [
        "qa_dic_dados = [\n",
        "    \"Quais são os possíveis tipos de serviço referenciado, de acordo com a tabela lfces019?\",\n",
        "    \"Que tabelas se relacionam com a tb_carga_horaria_sus?\",\n",
        "    \"Recebi um arquivo de planilha via email, que alegava ser uma amostra da tabela rl_estab_serv_class. Ao investigar o arquivo, notei que a planilha apresentava a coluna codservico com alguns registros nulos. Posso considerar esse arquivo como uma amostra verídica?\"\n",
        "]"
      ],
      "metadata": {
        "id": "BqdVT-7LdQU9"
      },
      "execution_count": null,
      "outputs": []
    }
  ]
}